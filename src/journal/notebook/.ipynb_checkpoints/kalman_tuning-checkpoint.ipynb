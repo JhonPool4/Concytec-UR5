{
 "cells": [
  {
   "cell_type": "code",
   "execution_count": null,
   "id": "under-auckland",
   "metadata": {},
   "outputs": [],
   "source": []
  },
  {
   "cell_type": "code",
   "execution_count": 34,
   "id": "obvious-annotation",
   "metadata": {},
   "outputs": [],
   "source": [
    "import pandas as pd\n",
    "import numpy as np\n",
    "import math\n",
    "from copy import copy\n",
    "import os\n",
    "from numpy.linalg import inv\n",
    "from numpy import matmul as mx"
   ]
  },
  {
   "cell_type": "code",
   "execution_count": 239,
   "id": "necessary-beginning",
   "metadata": {},
   "outputs": [],
   "source": [
    "# ============================================================\n",
    "#   Author  :   Jhon Charaja\n",
    "#   Info    :   Kalman 1st and 2nd derivator\n",
    "# ============================================================\n",
    "\n",
    "\n",
    "class MultipleKalmanDerivator:\n",
    "    def __init__(self, deltaT, ndof = 6):\n",
    "        self.x_v = np.zeros(ndof)\n",
    "        self.dx_v = np.zeros(ndof)\n",
    "        self.ddx_v = np.zeros(ndof)\n",
    "        self.deltaT = deltaT\n",
    "\n",
    "        self.derivators =   [KalmanDerivator(self.deltaT),\n",
    "                             KalmanDerivator(self.deltaT), \n",
    "                             KalmanDerivator(self.deltaT), \n",
    "                             KalmanDerivator(self.deltaT), \n",
    "                             KalmanDerivator(self.deltaT),\n",
    "                             KalmanDerivator(self.deltaT)#, \n",
    "                             #KalmanDerivator(self.deltaT),\n",
    "                             ]\n",
    "\n",
    "    def update(self, x_update):\n",
    "        x_v = []\n",
    "        dx_v = []\n",
    "        ddx_v = []\n",
    "\n",
    "        for i, _ in enumerate(self.derivators):\n",
    "            x, dx, ddx = self.derivators[i].kalman_filter(x_update[i])\n",
    "            x_v.append(x)\n",
    "            dx_v.append(dx)\n",
    "            ddx_v.append(ddx)\n",
    "\n",
    "        self.x_v = np.array(x_v)\n",
    "        self.dx_v = np.array(dx_v)\n",
    "        self.ddx_v = np.array(ddx_v)\n",
    "\n",
    "        return self.x_v, self.dx_v, self.ddx_v \n",
    "\n",
    "\n",
    "class KalmanDerivator:\n",
    "    def __init__(self, deltaT):\n",
    "        self.deltaT = deltaT\n",
    "        \n",
    "        self.x_k_k = np.zeros((3,1))\n",
    "        self.x_k1_k = np.zeros((3,1))\n",
    "        \n",
    "        self.P_k_k =  np.eye(3)\n",
    "        self.P_k1_k = np.eye(3)\n",
    "        \n",
    "        self.K = np.zeros((3,1))    #np.random.randn(3,1)\n",
    "        \n",
    "        \n",
    "        self.Q = 2*np.diag([0.01,0.05,0.1])#.1*np.array([[deltaT**5/20, deltaT**4/8, deltaT**3/6],\n",
    "                            #[deltaT**4/8, deltaT**3/3, deltaT**2/2],\n",
    "                            #[deltaT**3/6, deltaT**2/2, deltaT]]) #\n",
    "\n",
    "                ##\n",
    "                #2.*np.eye(3)\n",
    "                \n",
    "        \n",
    "        self.R = 0.001*np.eye(1)\n",
    "        self.I = np.eye(3)\n",
    "        \n",
    "\n",
    "    def kalman_filter(self, pos):\n",
    "        F = np.array([[1., self.deltaT, 0.5*self.deltaT**2],[0., 1., self.deltaT],[0.,0.,1.]])\n",
    "        H = np.array([[1., 0., 0.]])\n",
    "\n",
    "        z = np.array([[pos]])\n",
    "\n",
    "        #Prediction\n",
    "        self.x_k1_k = mx(F,self.x_k_k)\n",
    "        self.P_k1_k = mx(F, mx(self.P_k_k, np.transpose(F))) +  self.Q\n",
    "\n",
    "        #Update\n",
    "        self.x_k_k = self.x_k1_k + mx(self.K, (z - mx(H, self.x_k1_k)))\n",
    "        self.P_k_k = mx(mx((self.I - mx(self.K, H)), self.P_k1_k), np.transpose(self.I - mx(self.K, H))) + mx(self.K, mx(self.R, np.transpose(self.K))) \n",
    "        #self.P_k_k = mx(self.I - mx(self.K,H), self.P_k1_k)\n",
    "\n",
    "        self.K = mx(mx(self.P_k1_k, np.transpose(H)), inv(mx(H, mx(self.P_k1_k, np.transpose(H))) + self.R))   \n",
    "        \n",
    "        return self.x_k_k[0][0], self.x_k_k[1][0], self.x_k_k[2][0]\n",
    "\n",
    "\n"
   ]
  },
  {
   "cell_type": "code",
   "execution_count": 252,
   "id": "massive-footwear",
   "metadata": {},
   "outputs": [],
   "source": [
    "class MultipleKalmanIntegrator:\n",
    "    def __init__(self, deltaT, ndof = 6):\n",
    "        self.x_v = np.zeros(ndof)\n",
    "        self.dx_v = np.zeros(ndof)\n",
    "        self.ddx_v = np.zeros(ndof)\n",
    "        self.deltaT = deltaT\n",
    "\n",
    "        self.integrators =   [KalmanIntegrator(self.deltaT),\n",
    "                             KalmanIntegrator(self.deltaT), \n",
    "                             KalmanIntegrator(self.deltaT), \n",
    "                             KalmanIntegrator(self.deltaT), \n",
    "                             KalmanIntegrator(self.deltaT),\n",
    "                             KalmanIntegrator(self.deltaT), \n",
    "                             ]\n",
    "\n",
    "    def update(self, ddx_update):\n",
    "        x_v = []\n",
    "        dx_v = []\n",
    "        ddx_v = []\n",
    "\n",
    "        for i, _ in enumerate(self.integrators):\n",
    "            x, dx, ddx = self.integrators[i].kalman_filter(ddx_update[i])\n",
    "            x_v.append(x)\n",
    "            dx_v.append(dx)\n",
    "            ddx_v.append(ddx)\n",
    "\n",
    "        self.x_v = np.array(x_v)\n",
    "        self.dx_v = np.array(dx_v)\n",
    "        self.ddx_v = np.array(ddx_v)\n",
    "\n",
    "        return self.x_v, self.dx_v, self.ddx_v \n",
    "\n",
    "\n",
    "class KalmanIntegrator:\n",
    "    def __init__(self, deltaT):\n",
    "        self.deltaT = deltaT\n",
    "        \n",
    "        self.x_k_k = np.zeros((3,1))\n",
    "        self.x_k1_k = np.zeros((3,1))\n",
    "        \n",
    "        self.P_k_k =  np.eye(3)\n",
    "        self.P_k1_k = np.eye(3)\n",
    "        \n",
    "        self.K = np.zeros((3,1))    #np.random.randn(3,1)\n",
    "        \n",
    "        \n",
    "        self.Q = 100000*np.diag([0.01,0.05,0.1])#*np.array([[deltaT**5/20, deltaT**4/8, deltaT**3/6],\n",
    "                            #[deltaT**4/8, deltaT**3/3, deltaT**2/2],\n",
    "                            #[deltaT**3/6, deltaT**2/2, deltaT]]) #\n",
    "\n",
    "                #2*np.diag([0.01,0.05,0.1])#\n",
    "                #2.*np.eye(3)\n",
    "                \n",
    "        \n",
    "        self.R = 0*np.eye(1)\n",
    "        self.I = np.eye(3)\n",
    "        \n",
    "\n",
    "    def kalman_filter(self, pos):\n",
    "        F = np.array([[1., self.deltaT, 0.5*self.deltaT**2],[0., 1., self.deltaT],[0.,0.,1.]])\n",
    "        H = np.array([[0., 0., 1.]])\n",
    "\n",
    "        z = np.array([[pos]])\n",
    "\n",
    "        #Prediction\n",
    "        self.x_k1_k = mx(F,self.x_k_k)\n",
    "        self.P_k1_k = mx(F, mx(self.P_k_k, np.transpose(F))) +  self.Q\n",
    "\n",
    "        #Update\n",
    "        self.x_k_k = self.x_k1_k + mx(self.K, (z - mx(H, self.x_k1_k)))\n",
    "        self.P_k_k = mx(mx((self.I - mx(self.K, H)), self.P_k1_k), np.transpose(self.I - mx(self.K, H))) + mx(self.K, mx(self.R, np.transpose(self.K))) \n",
    "        #self.P_k_k = mx(self.I - mx(self.K,H), self.P_k1_k)\n",
    "\n",
    "        self.K = mx(mx(self.P_k1_k, np.transpose(H)), inv(mx(H, mx(self.P_k1_k, np.transpose(H))) + self.R))   \n",
    "        \n",
    "        return self.x_k_k[0][0], self.x_k_k[1][0], self.x_k_k[2][0]"
   ]
  },
  {
   "cell_type": "code",
   "execution_count": 255,
   "id": "oriented-partner",
   "metadata": {},
   "outputs": [
    {
     "data": {
      "text/plain": [
       "<matplotlib.legend.Legend at 0x7fc56dfecc88>"
      ]
     },
     "execution_count": 255,
     "metadata": {},
     "output_type": "execute_result"
    },
    {
     "data": {
      "image/png": "[encoded data removed]",
      "text/plain": [
       "<Figure size 432x288 with 1 Axes>"
      ]
     },
     "metadata": {
      "needs_background": "light"
     },
     "output_type": "display_data"
    }
   ],
   "source": [
    "mki = MultipleKalmanIntegrator(1e-2)\n",
    "\n",
    "ddqk = []\n",
    "dqk = []\n",
    "qk = []\n",
    "\n",
    "for i in range(q.shape[0]):\n",
    "    k, dk, ddk = mki.update(ddq[i,:])\n",
    "    qk.append(k)\n",
    "    dqk.append(dk)\n",
    "    ddqk.append(ddk)\n",
    "    \n",
    "qk = np.array(qk)\n",
    "dqk = np.array(dqk)\n",
    "ddqk = np.array(ddqk)\n",
    "\n",
    "plt.plot(qk[:,1])\n",
    "plt.plot(q[:, 1])\n",
    "plt.legend(['qk','q'])"
   ]
  },
  {
   "cell_type": "code",
   "execution_count": 219,
   "id": "normal-threshold",
   "metadata": {},
   "outputs": [],
   "source": [
    "path = '../src/prueba_kalman.csv'\n",
    "df = pd.read_csv(path)"
   ]
  },
  {
   "cell_type": "code",
   "execution_count": 47,
   "id": "narrow-durham",
   "metadata": {},
   "outputs": [],
   "source": [
    "euler_c = ['dddx', 'dddy', 'dddz', 'dddw', 'dddex', 'dddey', 'dddez']\n",
    "desired_c = ['dddx_d', 'dddy_d', 'dddz_d', 'dddw_d', 'dddex_d', 'dddey_d', 'dddez_d']\n",
    "kalman_c = ['dddx_k', 'dddy_k', 'dddz_k', 'dddw_k', 'dddex_k', 'dddey_k', 'dddez_k']\n",
    "\n",
    "def ctov(c_lst):\n",
    "    vlst = []\n",
    "    path = '../src/prueba_kalman.csv'\n",
    "    df = pd.read_csv(path)\n",
    "    \n",
    "    for c in c_lst:\n",
    "        vlst.append(df[c].values)\n",
    "        \n",
    "    return np.array(vlst).T\n"
   ]
  },
  {
   "cell_type": "code",
   "execution_count": 183,
   "id": "animal-herald",
   "metadata": {},
   "outputs": [],
   "source": [
    "dddx_euler = ctov(euler_c)\n",
    "dddx_desired = ctov(desired_c)\n",
    "dddx_kalman = ctov(kalman_c)"
   ]
  },
  {
   "cell_type": "code",
   "execution_count": 220,
   "id": "active-creativity",
   "metadata": {},
   "outputs": [],
   "source": [
    "q_c = ['q1', 'q2', 'q3', 'q4', 'q5', 'q6']\n",
    "dq_c = ['dq1', 'dq2', 'dq3', 'dq4', 'dq5', 'dq6']\n",
    "ddq_c = ['ddq1', 'ddq2', 'ddq3', 'ddq4', 'ddq5', 'ddq6']"
   ]
  },
  {
   "cell_type": "code",
   "execution_count": 221,
   "id": "different-marriage",
   "metadata": {},
   "outputs": [],
   "source": [
    "q, dq, ddq = ctov(q_c), ctov(dq_c), ctov(ddq_c)"
   ]
  },
  {
   "cell_type": "code",
   "execution_count": 52,
   "id": "assumed-phoenix",
   "metadata": {},
   "outputs": [],
   "source": [
    "import matplotlib.pyplot as plt"
   ]
  },
  {
   "cell_type": "code",
   "execution_count": 69,
   "id": "hungarian-russia",
   "metadata": {},
   "outputs": [
    {
     "data": {
      "text/plain": [
       "[<matplotlib.lines.Line2D at 0x7fc56f3d2828>]"
      ]
     },
     "execution_count": 69,
     "metadata": {},
     "output_type": "execute_result"
    },
    {
     "data": {
      "image/png": "[encoded data removed]",
      "text/plain": [
       "<Figure size 432x288 with 1 Axes>"
      ]
     },
     "metadata": {
      "needs_background": "light"
     },
     "output_type": "display_data"
    }
   ],
   "source": [
    "plt.plot(q[20:500,0] )\n",
    "#plt.plot(dq[20:500,0] )"
   ]
  },
  {
   "cell_type": "code",
   "execution_count": 228,
   "id": "dried-interstate",
   "metadata": {},
   "outputs": [],
   "source": []
  },
  {
   "cell_type": "code",
   "execution_count": 237,
   "id": "reserved-prescription",
   "metadata": {},
   "outputs": [
    {
     "data": {
      "text/plain": [
       "<matplotlib.legend.Legend at 0x7fc56e3e54a8>"
      ]
     },
     "execution_count": 237,
     "metadata": {},
     "output_type": "execute_result"
    },
    {
     "data": {
      "image/png": "[encoded data removed]",
      "text/plain": [
       "<Figure size 432x288 with 1 Axes>"
      ]
     },
     "metadata": {
      "needs_background": "light"
     },
     "output_type": "display_data"
    }
   ],
   "source": []
  },
  {
   "cell_type": "code",
   "execution_count": 230,
   "id": "canadian-genealogy",
   "metadata": {},
   "outputs": [
    {
     "data": {
      "text/plain": [
       "<matplotlib.legend.Legend at 0x7fc56e5e2080>"
      ]
     },
     "execution_count": 230,
     "metadata": {},
     "output_type": "execute_result"
    },
    {
     "data": {
      "image/png": "[encoded data removed]",
      "text/plain": [
       "<Figure size 432x288 with 1 Axes>"
      ]
     },
     "metadata": {
      "needs_background": "light"
     },
     "output_type": "display_data"
    }
   ],
   "source": []
  },
  {
   "cell_type": "code",
   "execution_count": 154,
   "id": "ambient-flower",
   "metadata": {},
   "outputs": [
    {
     "data": {
      "text/plain": [
       "6"
      ]
     },
     "execution_count": 154,
     "metadata": {},
     "output_type": "execute_result"
    }
   ],
   "source": [
    "q.shape[1]"
   ]
  },
  {
   "cell_type": "code",
   "execution_count": 156,
   "id": "willing-fireplace",
   "metadata": {},
   "outputs": [
    {
     "data": {
      "text/plain": [
       "(2000, 6)"
      ]
     },
     "execution_count": 156,
     "metadata": {},
     "output_type": "execute_result"
    }
   ],
   "source": [
    "q.shape"
   ]
  }
 ],
 "metadata": {
  "kernelspec": {
   "display_name": "Python 3",
   "language": "python",
   "name": "python3"
  },
  "language_info": {
   "codemirror_mode": {
    "name": "ipython",
    "version": 3
   },
   "file_extension": ".py",
   "mimetype": "text/x-python",
   "name": "python",
   "nbconvert_exporter": "python",
   "pygments_lexer": "ipython3",
   "version": "3.6.9"
  }
 },
 "nbformat": 4,
 "nbformat_minor": 5
}
